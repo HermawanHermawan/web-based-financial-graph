{
 "cells": [
  {
   "cell_type": "code",
   "execution_count": 3,
   "metadata": {},
   "outputs": [],
   "source": [
    "from pandas_datareader import data\n",
    "import datetime"
   ]
  },
  {
   "cell_type": "code",
   "execution_count": 5,
   "metadata": {},
   "outputs": [
    {
     "data": {
      "text/html": [
       "<div>\n",
       "<style scoped>\n",
       "    .dataframe tbody tr th:only-of-type {\n",
       "        vertical-align: middle;\n",
       "    }\n",
       "\n",
       "    .dataframe tbody tr th {\n",
       "        vertical-align: top;\n",
       "    }\n",
       "\n",
       "    .dataframe thead th {\n",
       "        text-align: right;\n",
       "    }\n",
       "</style>\n",
       "<table border=\"1\" class=\"dataframe\">\n",
       "  <thead>\n",
       "    <tr style=\"text-align: right;\">\n",
       "      <th></th>\n",
       "      <th>High</th>\n",
       "      <th>Low</th>\n",
       "      <th>Open</th>\n",
       "      <th>Close</th>\n",
       "      <th>Volume</th>\n",
       "      <th>Adj Close</th>\n",
       "    </tr>\n",
       "    <tr>\n",
       "      <th>Date</th>\n",
       "      <th></th>\n",
       "      <th></th>\n",
       "      <th></th>\n",
       "      <th></th>\n",
       "      <th></th>\n",
       "      <th></th>\n",
       "    </tr>\n",
       "  </thead>\n",
       "  <tbody>\n",
       "    <tr>\n",
       "      <td>2022-05-16</td>\n",
       "      <td>147.520004</td>\n",
       "      <td>144.179993</td>\n",
       "      <td>145.550003</td>\n",
       "      <td>145.539993</td>\n",
       "      <td>86643800</td>\n",
       "      <td>145.539993</td>\n",
       "    </tr>\n",
       "    <tr>\n",
       "      <td>2022-05-17</td>\n",
       "      <td>149.770004</td>\n",
       "      <td>146.679993</td>\n",
       "      <td>148.860001</td>\n",
       "      <td>149.240005</td>\n",
       "      <td>78336300</td>\n",
       "      <td>149.240005</td>\n",
       "    </tr>\n",
       "    <tr>\n",
       "      <td>2022-05-18</td>\n",
       "      <td>147.360001</td>\n",
       "      <td>139.899994</td>\n",
       "      <td>146.850006</td>\n",
       "      <td>140.820007</td>\n",
       "      <td>109742900</td>\n",
       "      <td>140.820007</td>\n",
       "    </tr>\n",
       "    <tr>\n",
       "      <td>2022-05-19</td>\n",
       "      <td>141.660004</td>\n",
       "      <td>136.600006</td>\n",
       "      <td>139.880005</td>\n",
       "      <td>137.350006</td>\n",
       "      <td>136095600</td>\n",
       "      <td>137.350006</td>\n",
       "    </tr>\n",
       "    <tr>\n",
       "      <td>2022-05-20</td>\n",
       "      <td>140.699997</td>\n",
       "      <td>132.610001</td>\n",
       "      <td>139.089996</td>\n",
       "      <td>137.589996</td>\n",
       "      <td>137194600</td>\n",
       "      <td>137.589996</td>\n",
       "    </tr>\n",
       "  </tbody>\n",
       "</table>\n",
       "</div>"
      ],
      "text/plain": [
       "                  High         Low        Open       Close     Volume  \\\n",
       "Date                                                                    \n",
       "2022-05-16  147.520004  144.179993  145.550003  145.539993   86643800   \n",
       "2022-05-17  149.770004  146.679993  148.860001  149.240005   78336300   \n",
       "2022-05-18  147.360001  139.899994  146.850006  140.820007  109742900   \n",
       "2022-05-19  141.660004  136.600006  139.880005  137.350006  136095600   \n",
       "2022-05-20  140.699997  132.610001  139.089996  137.589996  137194600   \n",
       "\n",
       "             Adj Close  \n",
       "Date                    \n",
       "2022-05-16  145.539993  \n",
       "2022-05-17  149.240005  \n",
       "2022-05-18  140.820007  \n",
       "2022-05-19  137.350006  \n",
       "2022-05-20  137.589996  "
      ]
     },
     "execution_count": 5,
     "metadata": {},
     "output_type": "execute_result"
    }
   ],
   "source": [
    "start=datetime.datetime(2022,5,16)\n",
    "end=datetime.datetime(2022,5,28)\n",
    "df = data.DataReader(name= \"AAPL\", data_source=\"yahoo\", start=start, end=end)\n",
    "df.head()"
   ]
  },
  {
   "cell_type": "code",
   "execution_count": null,
   "metadata": {},
   "outputs": [],
   "source": []
  }
 ],
 "metadata": {
  "kernelspec": {
   "display_name": "Python 3",
   "language": "python",
   "name": "python3"
  },
  "language_info": {
   "codemirror_mode": {
    "name": "ipython",
    "version": 3
   },
   "file_extension": ".py",
   "mimetype": "text/x-python",
   "name": "python",
   "nbconvert_exporter": "python",
   "pygments_lexer": "ipython3",
   "version": "3.7.4"
  }
 },
 "nbformat": 4,
 "nbformat_minor": 2
}
